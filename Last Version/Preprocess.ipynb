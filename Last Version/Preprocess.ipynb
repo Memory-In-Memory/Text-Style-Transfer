{
 "cells": [
  {
   "cell_type": "code",
   "execution_count": 13,
   "metadata": {},
   "outputs": [],
   "source": [
    "import os\n",
    "import re"
   ]
  },
  {
   "cell_type": "code",
   "execution_count": 14,
   "metadata": {},
   "outputs": [],
   "source": [
    "def preprocess(dataset_dir_name, input_file):\n",
    "    path = dataset_dir_name + \"/\" + input_file\n",
    "    text_file = open(path, \"r\")\n",
    "    sentences = []\n",
    "    for sentence in text_file.readlines():\n",
    "        sentence = sentence.replace(\".\", \"\")\n",
    "        sentence = sentence.replace(\" 's\", \" is\")\n",
    "        sentence = sentence.replace(\" 'm\", \" am\")\n",
    "        sentence = sentence.replace(\" 've\", \" have\")\n",
    "        sentence = sentence.replace(\" n't\", \" not\")\n",
    "        sentence = sentence.replace(\" 're\", \" are\")\n",
    "        sentence = sentence.replace(\" 'd\", \" would\")\n",
    "        sentence = sentence.replace(\" 'll\", \" will\")\n",
    "        sentence = sentence.replace(\"\\r\", \" \")\n",
    "        sentence = sentence.replace(\"\\n\", \" \")\n",
    "        sentence = re.sub(r'\\d+', \"number\", sentence)\n",
    "        sentence = ''.join(x for x in sentence if x.isalnum() or x == \" \")\n",
    "        sentence = re.sub(r'\\s{2,}', \" \", sentence)\n",
    "        sentence = sentence.strip().lower()\n",
    "        sentences.append(sentence)\n",
    "    text_file.close()\n",
    "    return sentences"
   ]
  },
  {
   "cell_type": "code",
   "execution_count": 15,
   "metadata": {},
   "outputs": [],
   "source": [
    "def create_dataset(input_file_0, input_file_1, output_file_name, dataset_dir_name):\n",
    "    sentences_0 = preprocess(dataset_dir_name, input_file_0)\n",
    "    sentences_1 = preprocess(dataset_dir_name, input_file_1)\n",
    "    output_file = open(output_file_name + \".txt\", \"w\")\n",
    "    output_file_label = open(output_file_name + \"_label.txt\", \"w\")\n",
    "    for sentence in sentences_0:\n",
    "        if len(sentence) > 0:\n",
    "            line = sentence + \"\\n\"\n",
    "            output_file.write(line)\n",
    "            label = str(0) + \"\\n\"\n",
    "            output_file_label.write(label)\n",
    "    for sentence in sentences_1:\n",
    "        if len(sentence) > 0:\n",
    "            line = sentence + \"\\n\"\n",
    "            output_file.write(line)\n",
    "            label = str(1) + \"\\n\"\n",
    "            output_file_label.write(label)\n",
    "    output_file.close()\n",
    "    output_file_label.close()"
   ]
  },
  {
   "cell_type": "code",
   "execution_count": 16,
   "metadata": {},
   "outputs": [
    {
     "name": "stdout",
     "output_type": "stream",
     "text": [
      "Datasets are being generated...\n",
      "Train set is being generated.\n",
      "Train set generation is finished.\n",
      "Validation set is being generated.\n",
      "Validation set generation is finished.\n",
      "Test set is being generated.\n",
      "Test set generation is finished.\n"
     ]
    }
   ],
   "source": [
    "if __name__ == \"__main__\":\n",
    "    os.mkdir(\"update_dataset\")\n",
    "    print(\"Datasets are being generated...\")\n",
    "    print(\"Train set is being generated.\")\n",
    "    create_dataset(\"train.0\", \"train.1\", \"update_dataset/train\", \"dataset\")\n",
    "    print(\"Train set generation is finished.\")\n",
    "    print(\"Validation set is being generated.\")\n",
    "    create_dataset(\"dev.0\", \"dev.1\", \"update_dataset/dev\", \"dataset\")\n",
    "    print(\"Validation set generation is finished.\")\n",
    "    print(\"Test set is being generated.\")\n",
    "    create_dataset(\"test.0\", \"test.1\", \"update_dataset/test\", \"dataset\")\n",
    "    print(\"Test set generation is finished.\")\n",
    "    print(\"Processing complete.\")"
   ]
  }
 ],
 "metadata": {
  "kernelspec": {
   "display_name": "Python 3",
   "language": "python",
   "name": "python3"
  },
  "language_info": {
   "codemirror_mode": {
    "name": "ipython",
    "version": 3
   },
   "file_extension": ".py",
   "mimetype": "text/x-python",
   "name": "python",
   "nbconvert_exporter": "python",
   "pygments_lexer": "ipython3",
   "version": "3.7.6"
  }
 },
 "nbformat": 4,
 "nbformat_minor": 4
}
